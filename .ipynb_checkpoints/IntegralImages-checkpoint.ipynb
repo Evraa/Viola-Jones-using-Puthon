{
 "cells": [
  {
   "cell_type": "code",
   "execution_count": 1,
   "metadata": {},
   "outputs": [
    {
     "data": {
      "text/plain": [
       "'\\nStarting AdaBoost algrithm\\n'"
      ]
     },
     "execution_count": 1,
     "metadata": {},
     "output_type": "execute_result"
    }
   ],
   "source": [
    "'''\n",
    "Starting AdaBoost algrithm\n",
    "'''\n"
   ]
  },
  {
   "cell_type": "code",
   "execution_count": 1,
   "metadata": {},
   "outputs": [],
   "source": [
    "'''\n",
    "IMPORTS\n",
    "'''\n",
    "from commonfunctions import *\n",
    "import numpy as np\n",
    "import skimage.io as io\n",
    "import matplotlib.pyplot as plt\n",
    "from skimage.color import rgb2gray\n",
    "from skimage.morphology import binary_erosion, binary_dilation, binary_closing,skeletonize, thin\n",
    "from skimage.measure import find_contours\n",
    "from skimage.draw import rectangle"
   ]
  },
  {
   "cell_type": "code",
   "execution_count": 61,
   "metadata": {},
   "outputs": [],
   "source": [
    "'''\n",
    "Integral Image:\n",
    "Input: an image I of size N x M\n",
    "Output:its Integral Image II of the same size\n",
    "'''\n",
    "def integralImage (image):\n",
    "    image = Grey_img(image)\n",
    "    n,m = image.shape\n",
    "    image *= 255\n",
    "    II = np.zeros([n,m])\n",
    "    for i in range (n):\n",
    "        for j in range (m):\n",
    "            if(i == 0 and j == 0):\n",
    "                a = 0\n",
    "            elif (i==0):\n",
    "                a = II[i,j-1]\n",
    "            elif(j==0):\n",
    "                a = II[i-1,j]\n",
    "            else:\n",
    "                a = II[i-1,j] + II[i,j-1] - II[i-1,j-1]\n",
    "            II[i,j] = image[i,j] + a\n",
    "    return II"
   ]
  },
  {
   "cell_type": "code",
   "execution_count": 70,
   "metadata": {},
   "outputs": [],
   "source": [
    "'''\n",
    "Feature Scaling: The funtion scales the Feature upon a certain square of the image\n",
    "    and eturns its value, to be later used in classification, to decide/compute the weight of that feature\n",
    "Input: an eXe image, a Haar-like feature, its type and its parameters (i,j,w,h)\n",
    "Output: the feature value\n",
    "'''\n",
    "\n",
    "#TODO for Muhammed because he's more familiar with the sizes of Haar Features\n",
    "def featureScaling(partOfImage, typeOfFeature):\n",
    "    if typeOfFeature == 'a':\n",
    "        return 0\n",
    "    elif typeOfFeature == 'b':\n",
    "        return 0\n",
    "    elif typeOfFeature == 'c':\n",
    "        return 0\n",
    "    elif typeOfFeature == 'd':\n",
    "        return 0\n",
    "    elif typeOfFeature == 'e':\n",
    "        return 0\n",
    "    else:\n",
    "        print(\"Error: in typing the Harr type\")\n",
    "    "
   ]
  },
  {
   "cell_type": "code",
   "execution_count": null,
   "metadata": {},
   "outputs": [],
   "source": []
  }
 ],
 "metadata": {
  "kernelspec": {
   "display_name": "Python 3",
   "language": "python",
   "name": "python3"
  },
  "language_info": {
   "codemirror_mode": {
    "name": "ipython",
    "version": 3
   },
   "file_extension": ".py",
   "mimetype": "text/x-python",
   "name": "python",
   "nbconvert_exporter": "python",
   "pygments_lexer": "ipython3",
   "version": "3.7.3"
  }
 },
 "nbformat": 4,
 "nbformat_minor": 2
}
