{
 "cells": [
  {
   "cell_type": "code",
   "execution_count": 1,
   "metadata": {},
   "outputs": [
    {
     "data": {
      "text/plain": [
       "'\\nStarting AdaBoost algrithm\\n'"
      ]
     },
     "execution_count": 1,
     "metadata": {},
     "output_type": "execute_result"
    }
   ],
   "source": [
    "'''\n",
    "Starting AdaBoost algrithm\n",
    "'''\n"
   ]
  },
  {
   "cell_type": "code",
   "execution_count": 3,
   "metadata": {},
   "outputs": [],
   "source": [
    "'''\n",
    "IMPORTS\n",
    "'''\n",
    "import numpy as np\n",
    "import skimage.io as io\n",
    "import matplotlib.pyplot as plt\n",
    "from skimage.color import rgb2gray\n",
    "from skimage.morphology import binary_erosion, binary_dilation, binary_closing,skeletonize, thin\n",
    "from skimage.measure import find_contours\n",
    "from skimage.draw import rectangle"
   ]
  },
  {
   "cell_type": "code",
   "execution_count": 57,
   "metadata": {},
   "outputs": [
    {
     "name": "stdout",
     "output_type": "stream",
     "text": [
      "[[  3.   8.   8.  17.]\n",
      " [  6.  12.  16.  32.]\n",
      " [ 14.  31.  41.  59.]\n",
      " [ 17.  48.  70. 113.]]\n"
     ]
    }
   ],
   "source": [
    "'''\n",
    "Integral Image:\n",
    "Input: an image I of size N x M\n",
    "Output:its Integral Image II of the same size\n",
    "'''\n",
    "\n",
    "def integralImage (image):\n",
    "    image = rgb2gray(image)\n",
    "    n,m = image.shape\n",
    "    II = np.zeros((n,m))\n",
    "    for i in range(0,n):\n",
    "        for j in range(0,m):\n",
    "            II[i,j] = sum(sum(image[0:i+1,0:j+1]))\n",
    "    return II\n",
    "\n",
    "#arr to be a test image to test the integral function\n",
    "testarr = np.array([\n",
    "    [3,5,0,9],\n",
    "    [3,1,4,7],\n",
    "    [8,11,6,2],\n",
    "    [3,14,12,25]\n",
    "])\n",
    "\n",
    "integralImg = integralImage(testarr)\n",
    "print(integralImg)"
   ]
  },
  {
   "cell_type": "code",
   "execution_count": 56,
   "metadata": {},
   "outputs": [],
   "source": [
    "'''\n",
    "Feature Scaling: The funtion scales the Feature upon a certain square of the image\n",
    "    and eturns its value, to be later used in classification, to decide/compute the weight of that feature\n",
    "Input: an eXe image, a Haar-like feature, its type and its parameters (i,j,w,h)\n",
    "Output: the feature value\n",
    "'''\n",
    "\n",
    "#TODO for Muhammed because he's more familiar with the sizes of Haar Features\n",
    "def featureScaling(partOfImage, typeOfFeature):\n",
    "    if typeOfFeature == 'a':\n",
    "        return 0\n",
    "    elif typeOfFeature == 'b':\n",
    "        return 0\n",
    "    elif typeOfFeature == 'c':\n",
    "        return 0\n",
    "    elif typeOfFeature == 'd':\n",
    "        return 0\n",
    "    elif typeOfFeature == 'e':\n",
    "        return 0\n",
    "    else:\n",
    "        print(\"Error: in typing the Harr type\")\n",
    "    "
   ]
  },
  {
   "cell_type": "code",
   "execution_count": 54,
   "metadata": {},
   "outputs": [
    {
     "name": "stdout",
     "output_type": "stream",
     "text": [
      "sum =  10\n",
      "sum2 =  [ 6  8 10 12]\n",
      "sum3 =  14\n"
     ]
    }
   ],
   "source": [
    "'''\n",
    "using sum function for the integral image\n",
    "'''\n",
    "#sum function return the sum of 1D array for example\n",
    "arr1 = [1,2,3,4]\n",
    "print('sum = ',sum(arr1))\n",
    "\n",
    "#if the function is 2D it would return the sum of each column in 1D array for example\n",
    "arr2 = np.array([\n",
    "    [1,2,3,4],\n",
    "    [5,6,7,8]\n",
    "])\n",
    "\n",
    "print('sum2 = ', sum(arr2))\n",
    "\n",
    "#so if we want for example the summation of the a small portion of the arr2 matrix for example\n",
    "'''\n",
    "[1,2]\n",
    "[5,6]\n",
    "'''\n",
    "#we would sum the summation of the 1D array i.e. sum(sum(arr2[0:2,0:2]))\n",
    "\n",
    "print('sum3 = ', sum(sum(arr2[0:2,0:2])))\n",
    "\n",
    "# sum(sum(arr2[0:2,0:2])) i.e. sum([6,8]) = 14\n"
   ]
  },
  {
   "cell_type": "code",
   "execution_count": null,
   "metadata": {},
   "outputs": [],
   "source": []
  }
 ],
 "metadata": {
  "kernelspec": {
   "display_name": "Python 3",
   "language": "python",
   "name": "python3"
  },
  "language_info": {
   "codemirror_mode": {
    "name": "ipython",
    "version": 3
   },
   "file_extension": ".py",
   "mimetype": "text/x-python",
   "name": "python",
   "nbconvert_exporter": "python",
   "pygments_lexer": "ipython3",
   "version": "3.7.3"
  }
 },
 "nbformat": 4,
 "nbformat_minor": 2
}
